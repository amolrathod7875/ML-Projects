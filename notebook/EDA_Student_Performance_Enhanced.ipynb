{
 "cells": [
  {
   "cell_type": "markdown",
   "id": "01e62f51",
   "metadata": {},
   "source": [
    "# 📊 Exploratory Data Analysis: Student Performance\n",
    "\n",
    "This notebook performs an **in-depth analysis of student performance data**. We will examine the dataset to uncover patterns and insights related to student demographics, exam scores, and other influencing factors.\n",
    "\n",
    "### **Objectives:**\n",
    "- Load and inspect the dataset.\n",
    "- Identify missing values and data types.\n",
    "- Explore categorical and numerical features.\n",
    "- Perform statistical analysis.\n",
    "- Visualize distributions and relationships.\n",
    "\n",
    "---\n"
   ]
  },
  {
   "cell_type": "markdown",
   "id": "8bd2927a",
   "metadata": {},
   "source": [
    "### Code Explanation\n",
    "The following code performs a step in the data analysis process.\n"
   ]
  },
  {
   "cell_type": "code",
   "execution_count": 22,
   "id": "6987751c",
   "metadata": {},
   "outputs": [],
   "source": [
    "import pandas as pd  # Importing required libraries\n",
    "import seaborn as sns  # Importing required libraries\n",
    "import matplotlib.pyplot as plt  # Importing required libraries\n",
    "import numpy as np   # Importing required libraries\n",
    "import plotly.express as px  # Importing required libraries\n",
    "import warnings  # Importing required libraries\n",
    "warnings.filterwarnings('ignore')  # Code step"
   ]
  },
  {
   "cell_type": "markdown",
   "id": "c7e81622",
   "metadata": {},
   "source": [
    "### Results & Insights\n",
    "- (Write observations from the output of this code block.)\n"
   ]
  },
  {
   "cell_type": "markdown",
   "id": "b7cc1537",
   "metadata": {},
   "source": [
    "### Code Explanation\n",
    "The following code performs a step in the data analysis process.\n"
   ]
  },
  {
   "cell_type": "code",
   "execution_count": 23,
   "id": "9f379b5a",
   "metadata": {},
   "outputs": [
    {
     "data": {
      "text/html": [
       "<div>\n",
       "<style scoped>\n",
       "    .dataframe tbody tr th:only-of-type {\n",
       "        vertical-align: middle;\n",
       "    }\n",
       "\n",
       "    .dataframe tbody tr th {\n",
       "        vertical-align: top;\n",
       "    }\n",
       "\n",
       "    .dataframe thead th {\n",
       "        text-align: right;\n",
       "    }\n",
       "</style>\n",
       "<table border=\"1\" class=\"dataframe\">\n",
       "  <thead>\n",
       "    <tr style=\"text-align: right;\">\n",
       "      <th></th>\n",
       "      <th>gender</th>\n",
       "      <th>race/ethnicity</th>\n",
       "      <th>parental level of education</th>\n",
       "      <th>lunch</th>\n",
       "      <th>test preparation course</th>\n",
       "      <th>math score</th>\n",
       "      <th>reading score</th>\n",
       "      <th>writing score</th>\n",
       "    </tr>\n",
       "  </thead>\n",
       "  <tbody>\n",
       "    <tr>\n",
       "      <th>0</th>\n",
       "      <td>female</td>\n",
       "      <td>group B</td>\n",
       "      <td>bachelor's degree</td>\n",
       "      <td>standard</td>\n",
       "      <td>none</td>\n",
       "      <td>72</td>\n",
       "      <td>72</td>\n",
       "      <td>74</td>\n",
       "    </tr>\n",
       "    <tr>\n",
       "      <th>1</th>\n",
       "      <td>female</td>\n",
       "      <td>group C</td>\n",
       "      <td>some college</td>\n",
       "      <td>standard</td>\n",
       "      <td>completed</td>\n",
       "      <td>69</td>\n",
       "      <td>90</td>\n",
       "      <td>88</td>\n",
       "    </tr>\n",
       "    <tr>\n",
       "      <th>2</th>\n",
       "      <td>female</td>\n",
       "      <td>group B</td>\n",
       "      <td>master's degree</td>\n",
       "      <td>standard</td>\n",
       "      <td>none</td>\n",
       "      <td>90</td>\n",
       "      <td>95</td>\n",
       "      <td>93</td>\n",
       "    </tr>\n",
       "    <tr>\n",
       "      <th>3</th>\n",
       "      <td>male</td>\n",
       "      <td>group A</td>\n",
       "      <td>associate's degree</td>\n",
       "      <td>free/reduced</td>\n",
       "      <td>none</td>\n",
       "      <td>47</td>\n",
       "      <td>57</td>\n",
       "      <td>44</td>\n",
       "    </tr>\n",
       "    <tr>\n",
       "      <th>4</th>\n",
       "      <td>male</td>\n",
       "      <td>group C</td>\n",
       "      <td>some college</td>\n",
       "      <td>standard</td>\n",
       "      <td>none</td>\n",
       "      <td>76</td>\n",
       "      <td>78</td>\n",
       "      <td>75</td>\n",
       "    </tr>\n",
       "  </tbody>\n",
       "</table>\n",
       "</div>"
      ],
      "text/plain": [
       "   gender race/ethnicity parental level of education         lunch  \\\n",
       "0  female        group B           bachelor's degree      standard   \n",
       "1  female        group C                some college      standard   \n",
       "2  female        group B             master's degree      standard   \n",
       "3    male        group A          associate's degree  free/reduced   \n",
       "4    male        group C                some college      standard   \n",
       "\n",
       "  test preparation course  math score  reading score  writing score  \n",
       "0                    none          72             72             74  \n",
       "1               completed          69             90             88  \n",
       "2                    none          90             95             93  \n",
       "3                    none          47             57             44  \n",
       "4                    none          76             78             75  "
      ]
     },
     "execution_count": 23,
     "metadata": {},
     "output_type": "execute_result"
    }
   ],
   "source": [
    "df = pd.read_csv(r\"E:\\ml Projects\\notebook\\data\\StudentsPerformance.csv\")  # Loading the dataset from CSV file\n",
    "df.head()  # Display first 5 rows to get an overview"
   ]
  },
  {
   "cell_type": "markdown",
   "id": "df753091",
   "metadata": {},
   "source": [
    "### Results & Insights\n",
    "- (Write observations from the output of this code block.)\n"
   ]
  },
  {
   "cell_type": "markdown",
   "id": "347460a6",
   "metadata": {},
   "source": [
    "### Code Explanation\n",
    "The following code performs a step in the data analysis process.\n"
   ]
  },
  {
   "cell_type": "code",
   "execution_count": 24,
   "id": "d6aeecec",
   "metadata": {},
   "outputs": [
    {
     "data": {
      "text/html": [
       "<div>\n",
       "<style scoped>\n",
       "    .dataframe tbody tr th:only-of-type {\n",
       "        vertical-align: middle;\n",
       "    }\n",
       "\n",
       "    .dataframe tbody tr th {\n",
       "        vertical-align: top;\n",
       "    }\n",
       "\n",
       "    .dataframe thead th {\n",
       "        text-align: right;\n",
       "    }\n",
       "</style>\n",
       "<table border=\"1\" class=\"dataframe\">\n",
       "  <thead>\n",
       "    <tr style=\"text-align: right;\">\n",
       "      <th></th>\n",
       "      <th>math score</th>\n",
       "      <th>reading score</th>\n",
       "      <th>writing score</th>\n",
       "    </tr>\n",
       "  </thead>\n",
       "  <tbody>\n",
       "    <tr>\n",
       "      <th>count</th>\n",
       "      <td>1000.00000</td>\n",
       "      <td>1000.000000</td>\n",
       "      <td>1000.000000</td>\n",
       "    </tr>\n",
       "    <tr>\n",
       "      <th>mean</th>\n",
       "      <td>66.08900</td>\n",
       "      <td>69.169000</td>\n",
       "      <td>68.054000</td>\n",
       "    </tr>\n",
       "    <tr>\n",
       "      <th>std</th>\n",
       "      <td>15.16308</td>\n",
       "      <td>14.600192</td>\n",
       "      <td>15.195657</td>\n",
       "    </tr>\n",
       "    <tr>\n",
       "      <th>min</th>\n",
       "      <td>0.00000</td>\n",
       "      <td>17.000000</td>\n",
       "      <td>10.000000</td>\n",
       "    </tr>\n",
       "    <tr>\n",
       "      <th>25%</th>\n",
       "      <td>57.00000</td>\n",
       "      <td>59.000000</td>\n",
       "      <td>57.750000</td>\n",
       "    </tr>\n",
       "    <tr>\n",
       "      <th>50%</th>\n",
       "      <td>66.00000</td>\n",
       "      <td>70.000000</td>\n",
       "      <td>69.000000</td>\n",
       "    </tr>\n",
       "    <tr>\n",
       "      <th>75%</th>\n",
       "      <td>77.00000</td>\n",
       "      <td>79.000000</td>\n",
       "      <td>79.000000</td>\n",
       "    </tr>\n",
       "    <tr>\n",
       "      <th>max</th>\n",
       "      <td>100.00000</td>\n",
       "      <td>100.000000</td>\n",
       "      <td>100.000000</td>\n",
       "    </tr>\n",
       "  </tbody>\n",
       "</table>\n",
       "</div>"
      ],
      "text/plain": [
       "       math score  reading score  writing score\n",
       "count  1000.00000    1000.000000    1000.000000\n",
       "mean     66.08900      69.169000      68.054000\n",
       "std      15.16308      14.600192      15.195657\n",
       "min       0.00000      17.000000      10.000000\n",
       "25%      57.00000      59.000000      57.750000\n",
       "50%      66.00000      70.000000      69.000000\n",
       "75%      77.00000      79.000000      79.000000\n",
       "max     100.00000     100.000000     100.000000"
      ]
     },
     "execution_count": 24,
     "metadata": {},
     "output_type": "execute_result"
    }
   ],
   "source": [
    "df.describe()  # Summary statistics of numerical columns"
   ]
  },
  {
   "cell_type": "markdown",
   "id": "ac37e93b",
   "metadata": {},
   "source": [
    "### Results & Insights\n",
    "- (Write observations from the output of this code block.)\n"
   ]
  },
  {
   "cell_type": "markdown",
   "id": "81d8acc8",
   "metadata": {},
   "source": [
    "### Code Explanation\n",
    "The following code performs a step in the data analysis process.\n"
   ]
  },
  {
   "cell_type": "code",
   "execution_count": 25,
   "id": "f962b549",
   "metadata": {},
   "outputs": [
    {
     "data": {
      "text/plain": [
       "gender                         0\n",
       "race/ethnicity                 0\n",
       "parental level of education    0\n",
       "lunch                          0\n",
       "test preparation course        0\n",
       "math score                     0\n",
       "reading score                  0\n",
       "writing score                  0\n",
       "dtype: int64"
      ]
     },
     "execution_count": 25,
     "metadata": {},
     "output_type": "execute_result"
    }
   ],
   "source": [
    "df.isnull().sum()  # Checking for missing values"
   ]
  },
  {
   "cell_type": "markdown",
   "id": "6e2371e0",
   "metadata": {},
   "source": [
    "### Results & Insights\n",
    "- (Write observations from the output of this code block.)\n"
   ]
  },
  {
   "cell_type": "markdown",
   "id": "215b9153",
   "metadata": {},
   "source": [
    "### Code Explanation\n",
    "The following code performs a step in the data analysis process.\n"
   ]
  },
  {
   "cell_type": "code",
   "execution_count": 26,
   "id": "4c133987",
   "metadata": {},
   "outputs": [
    {
     "name": "stdout",
     "output_type": "stream",
     "text": [
      "Number of Numerical Data :  3\n",
      "Number of Categorical Data :  5\n"
     ]
    }
   ],
   "source": [
    "Categorical_data = pd.DataFrame(df.select_dtypes(include=['object']).columns.to_list())  # Selecting categorical or numerical columns\n",
    "Numerical_data = pd.DataFrame(df.select_dtypes(exclude=['object']).columns.to_list())  # Selecting categorical or numerical columns\n",
    "\n",
    "print(\"Number of Numerical Data : \",Numerical_data.size)  # Code step\n",
    "print(\"Number of Categorical Data : \",Categorical_data.size)  # Code step"
   ]
  },
  {
   "cell_type": "markdown",
   "id": "a1459978",
   "metadata": {},
   "source": [
    "### Results & Insights\n",
    "- (Write observations from the output of this code block.)\n"
   ]
  },
  {
   "cell_type": "markdown",
   "id": "135b08b9",
   "metadata": {},
   "source": [
    "### Code Explanation\n",
    "The following code performs a step in the data analysis process.\n"
   ]
  },
  {
   "cell_type": "code",
   "execution_count": 27,
   "id": "db048957",
   "metadata": {},
   "outputs": [],
   "source": [
    "df['total score'] = df['math score'] + df['reading score'] + df['writing score']  # Code step\n",
    "df['average score'] = df['total score'] / 3  # Code step"
   ]
  },
  {
   "cell_type": "markdown",
   "id": "52643618",
   "metadata": {},
   "source": [
    "### Results & Insights\n",
    "- (Write observations from the output of this code block.)\n"
   ]
  },
  {
   "cell_type": "markdown",
   "id": "410b0052",
   "metadata": {},
   "source": [
    "### Code Explanation\n",
    "The following code performs a step in the data analysis process.\n"
   ]
  },
  {
   "cell_type": "code",
   "execution_count": 28,
   "id": "8b366ec3",
   "metadata": {},
   "outputs": [
    {
     "name": "stdout",
     "output_type": "stream",
     "text": [
      "Number Of Student Getting Full Marks in Maths :  7\n",
      "Number Of Student Getting Full Marks in Reading :  17\n",
      "Number Of Student Getting Full Marks in Writing :  14\n"
     ]
    }
   ],
   "source": [
    "maths_full = df[df['math score'] == 100]['average score'].count()  # Code step\n",
    "reading_full = df[df['reading score'] == 100]['average score'].count()  # Code step\n",
    "writing_full = df[df['writing score'] == 100]['average score'].count()  # Code step\n",
    "\n",
    "print(\"Number Of Student Getting Full Marks in Maths : \",maths_full)  # Code step\n",
    "print(\"Number Of Student Getting Full Marks in Reading : \",reading_full)  # Code step\n",
    "print(\"Number Of Student Getting Full Marks in Writing : \",writing_full)  # Code step"
   ]
  },
  {
   "cell_type": "markdown",
   "id": "81a5b404",
   "metadata": {},
   "source": [
    "### Results & Insights\n",
    "- (Write observations from the output of this code block.)\n"
   ]
  },
  {
   "cell_type": "markdown",
   "id": "ee069ac8",
   "metadata": {},
   "source": [
    "### Code Explanation\n",
    "The following code performs a step in the data analysis process.\n"
   ]
  },
  {
   "cell_type": "code",
   "execution_count": 29,
   "id": "a0008961",
   "metadata": {},
   "outputs": [
    {
     "data": {
      "text/plain": [
       "gender                           2\n",
       "race/ethnicity                   5\n",
       "parental level of education      6\n",
       "lunch                            2\n",
       "test preparation course          2\n",
       "math score                      81\n",
       "reading score                   72\n",
       "writing score                   77\n",
       "total score                    194\n",
       "average score                  194\n",
       "dtype: int64"
      ]
     },
     "execution_count": 29,
     "metadata": {},
     "output_type": "execute_result"
    }
   ],
   "source": [
    "df.nunique()  # Code step"
   ]
  },
  {
   "cell_type": "markdown",
   "id": "50366deb",
   "metadata": {},
   "source": [
    "### Results & Insights\n",
    "- (Write observations from the output of this code block.)\n"
   ]
  },
  {
   "cell_type": "markdown",
   "id": "189801ff",
   "metadata": {},
   "source": [
    "### Code Explanation\n",
    "The following code performs a step in the data analysis process.\n"
   ]
  },
  {
   "cell_type": "code",
   "execution_count": 30,
   "id": "acd98641",
   "metadata": {},
   "outputs": [
    {
     "name": "stdout",
     "output_type": "stream",
     "text": [
      "<class 'pandas.core.frame.DataFrame'>\n",
      "RangeIndex: 1000 entries, 0 to 999\n",
      "Data columns (total 10 columns):\n",
      " #   Column                       Non-Null Count  Dtype  \n",
      "---  ------                       --------------  -----  \n",
      " 0   gender                       1000 non-null   object \n",
      " 1   race/ethnicity               1000 non-null   object \n",
      " 2   parental level of education  1000 non-null   object \n",
      " 3   lunch                        1000 non-null   object \n",
      " 4   test preparation course      1000 non-null   object \n",
      " 5   math score                   1000 non-null   int64  \n",
      " 6   reading score                1000 non-null   int64  \n",
      " 7   writing score                1000 non-null   int64  \n",
      " 8   total score                  1000 non-null   int64  \n",
      " 9   average score                1000 non-null   float64\n",
      "dtypes: float64(1), int64(4), object(5)\n",
      "memory usage: 78.2+ KB\n"
     ]
    }
   ],
   "source": [
    "df.info()  # Code step"
   ]
  },
  {
   "cell_type": "markdown",
   "id": "3f92f918",
   "metadata": {},
   "source": [
    "### Results & Insights\n",
    "- (Write observations from the output of this code block.)\n"
   ]
  },
  {
   "cell_type": "markdown",
   "id": "d1d36dda",
   "metadata": {},
   "source": [
    "### Code Explanation\n",
    "The following code performs a step in the data analysis process.\n"
   ]
  },
  {
   "cell_type": "code",
   "execution_count": 31,
   "id": "56dffeb7",
   "metadata": {},
   "outputs": [
    {
     "name": "stdout",
     "output_type": "stream",
     "text": [
      "Categories 'Gender' has :  ['female' 'male']\n",
      "=================================================================================================\n",
      "Categories 'race/ethnicity' has :  ['group B' 'group C' 'group A' 'group D' 'group E']\n",
      "=================================================================================================\n",
      "Categories 'lunch' has :  ['standard' 'free/reduced']\n",
      "=================================================================================================\n",
      "Categories 'test preparation course' has :  ['none' 'completed']\n"
     ]
    }
   ],
   "source": [
    "print(\"Categories 'Gender' has : \",end=\" \")  # Code step\n",
    "print(df['gender'].unique())  # Code step\n",
    "print(\"=================================================================================================\")  # Code step\n",
    "print(\"Categories 'race/ethnicity' has : \",end=\" \")  # Code step\n",
    "print(df['race/ethnicity'].unique())  # Code step\n",
    "print(\"=================================================================================================\")  # Code step\n",
    "\n",
    "print(\"Categories 'lunch' has : \",end=\" \")  # Code step\n",
    "print(df['lunch'].unique())  # Code step\n",
    "print(\"=================================================================================================\")  # Code step\n",
    "\n",
    "print(\"Categories 'test preparation course' has : \",end=\" \")  # Code step\n",
    "print(df['test preparation course'].unique())  # Code step"
   ]
  },
  {
   "cell_type": "markdown",
   "id": "d4bbca01",
   "metadata": {},
   "source": [
    "### Results & Insights\n",
    "- (Write observations from the output of this code block.)\n"
   ]
  },
  {
   "cell_type": "markdown",
   "id": "e5e62a12",
   "metadata": {},
   "source": [
    "### Code Explanation\n",
    "The following code performs a step in the data analysis process.\n"
   ]
  },
  {
   "cell_type": "code",
   "execution_count": 32,
   "id": "66324bed",
   "metadata": {},
   "outputs": [
    {
     "name": "stdout",
     "output_type": "stream",
     "text": [
      "Number Of Student Getting Full Marks in Maths :  22\n",
      "Number Of Student Getting Full Marks in Reading :  15\n",
      "Number Of Student Getting Full Marks in Writing :  17\n"
     ]
    }
   ],
   "source": [
    "maths_fail = df[df['math score'] < 35]['average score'].count()  # Code step\n",
    "reading_fail = df[df['reading score'] < 35]['average score'].count()  # Code step\n",
    "writing_fail = df[df['writing score'] < 35]['average score'].count()  # Code step\n",
    "\n",
    "print(\"Number Of Student Getting Full Marks in Maths : \",maths_fail)  # Code step\n",
    "print(\"Number Of Student Getting Full Marks in Reading : \",reading_fail)  # Code step\n",
    "print(\"Number Of Student Getting Full Marks in Writing : \",writing_fail)  # Code step"
   ]
  },
  {
   "cell_type": "markdown",
   "id": "c8c585a8",
   "metadata": {},
   "source": [
    "### Results & Insights\n",
    "- (Write observations from the output of this code block.)\n"
   ]
  },
  {
   "cell_type": "markdown",
   "id": "28ed797a",
   "metadata": {},
   "source": [
    "### Code Explanation\n",
    "The following code performs a step in the data analysis process.\n"
   ]
  },
  {
   "cell_type": "code",
   "execution_count": 33,
   "id": "89273713",
   "metadata": {},
   "outputs": [
    {
     "data": {
      "image/png": "[encoded data removed]",
      "text/plain": [
       "<Figure size 1500x700 with 2 Axes>"
      ]
     },
     "metadata": {},
     "output_type": "display_data"
    }
   ],
   "source": [
    "\n",
    "fig,axs = plt.subplots(1,2,figsize=(15,7))  # Visualization of data\n",
    "plt.subplot(121)  # Visualization of data\n",
    "sns.histplot(data=df,x='average score',kde=True,color='g',bins=30)  # Visualization of data\n",
    "plt.subplot(122)  # Visualization of data\n",
    "sns.histplot(data=df,x='average score',hue='gender',kde=True)  # Visualization of data\n",
    "\n",
    "plt.show()  # Code step"
   ]
  },
  {
   "cell_type": "code",
   "execution_count": 34,
   "id": "965e652f",
   "metadata": {},
   "outputs": [
    {
     "data": {
      "image/png": "[encoded data removed]",
      "text/plain": [
       "<Figure size 2600x600 with 3 Axes>"
      ]
     },
     "metadata": {},
     "output_type": "display_data"
    }
   ],
   "source": [
    "plt.subplots(1,3,figsize=(26,6))\n",
    "plt.subplot(141)\n",
    "sns.histplot(data=df,x='average score',kde=True,hue='lunch')\n",
    "plt.subplot(142)\n",
    "sns.histplot(data=df[df.gender == 'female'],x='average score',kde=True,hue='lunch')\n",
    "plt.subplot(143)\n",
    "sns.histplot(data=df[df.gender == 'male'],x='average score',hue='lunch',kde=True)\n",
    "plt.show()"
   ]
  },
  {
   "cell_type": "code",
   "execution_count": 35,
   "id": "f46bcb53",
   "metadata": {},
   "outputs": [
    {
     "data": {
      "text/html": [
       "<div>\n",
       "<style scoped>\n",
       "    .dataframe tbody tr th:only-of-type {\n",
       "        vertical-align: middle;\n",
       "    }\n",
       "\n",
       "    .dataframe tbody tr th {\n",
       "        vertical-align: top;\n",
       "    }\n",
       "\n",
       "    .dataframe thead th {\n",
       "        text-align: right;\n",
       "    }\n",
       "</style>\n",
       "<table border=\"1\" class=\"dataframe\">\n",
       "  <thead>\n",
       "    <tr style=\"text-align: right;\">\n",
       "      <th></th>\n",
       "      <th>gender</th>\n",
       "      <th>race/ethnicity</th>\n",
       "      <th>parental level of education</th>\n",
       "      <th>lunch</th>\n",
       "      <th>test preparation course</th>\n",
       "      <th>math score</th>\n",
       "      <th>reading score</th>\n",
       "      <th>writing score</th>\n",
       "      <th>total score</th>\n",
       "      <th>average score</th>\n",
       "    </tr>\n",
       "  </thead>\n",
       "  <tbody>\n",
       "    <tr>\n",
       "      <th>0</th>\n",
       "      <td>female</td>\n",
       "      <td>group B</td>\n",
       "      <td>bachelor's degree</td>\n",
       "      <td>standard</td>\n",
       "      <td>none</td>\n",
       "      <td>72</td>\n",
       "      <td>72</td>\n",
       "      <td>74</td>\n",
       "      <td>218</td>\n",
       "      <td>72.666667</td>\n",
       "    </tr>\n",
       "    <tr>\n",
       "      <th>1</th>\n",
       "      <td>female</td>\n",
       "      <td>group C</td>\n",
       "      <td>some college</td>\n",
       "      <td>standard</td>\n",
       "      <td>completed</td>\n",
       "      <td>69</td>\n",
       "      <td>90</td>\n",
       "      <td>88</td>\n",
       "      <td>247</td>\n",
       "      <td>82.333333</td>\n",
       "    </tr>\n",
       "    <tr>\n",
       "      <th>2</th>\n",
       "      <td>female</td>\n",
       "      <td>group B</td>\n",
       "      <td>master's degree</td>\n",
       "      <td>standard</td>\n",
       "      <td>none</td>\n",
       "      <td>90</td>\n",
       "      <td>95</td>\n",
       "      <td>93</td>\n",
       "      <td>278</td>\n",
       "      <td>92.666667</td>\n",
       "    </tr>\n",
       "    <tr>\n",
       "      <th>3</th>\n",
       "      <td>male</td>\n",
       "      <td>group A</td>\n",
       "      <td>associate's degree</td>\n",
       "      <td>free/reduced</td>\n",
       "      <td>none</td>\n",
       "      <td>47</td>\n",
       "      <td>57</td>\n",
       "      <td>44</td>\n",
       "      <td>148</td>\n",
       "      <td>49.333333</td>\n",
       "    </tr>\n",
       "    <tr>\n",
       "      <th>4</th>\n",
       "      <td>male</td>\n",
       "      <td>group C</td>\n",
       "      <td>some college</td>\n",
       "      <td>standard</td>\n",
       "      <td>none</td>\n",
       "      <td>76</td>\n",
       "      <td>78</td>\n",
       "      <td>75</td>\n",
       "      <td>229</td>\n",
       "      <td>76.333333</td>\n",
       "    </tr>\n",
       "    <tr>\n",
       "      <th>...</th>\n",
       "      <td>...</td>\n",
       "      <td>...</td>\n",
       "      <td>...</td>\n",
       "      <td>...</td>\n",
       "      <td>...</td>\n",
       "      <td>...</td>\n",
       "      <td>...</td>\n",
       "      <td>...</td>\n",
       "      <td>...</td>\n",
       "      <td>...</td>\n",
       "    </tr>\n",
       "    <tr>\n",
       "      <th>995</th>\n",
       "      <td>female</td>\n",
       "      <td>group E</td>\n",
       "      <td>master's degree</td>\n",
       "      <td>standard</td>\n",
       "      <td>completed</td>\n",
       "      <td>88</td>\n",
       "      <td>99</td>\n",
       "      <td>95</td>\n",
       "      <td>282</td>\n",
       "      <td>94.000000</td>\n",
       "    </tr>\n",
       "    <tr>\n",
       "      <th>996</th>\n",
       "      <td>male</td>\n",
       "      <td>group C</td>\n",
       "      <td>high school</td>\n",
       "      <td>free/reduced</td>\n",
       "      <td>none</td>\n",
       "      <td>62</td>\n",
       "      <td>55</td>\n",
       "      <td>55</td>\n",
       "      <td>172</td>\n",
       "      <td>57.333333</td>\n",
       "    </tr>\n",
       "    <tr>\n",
       "      <th>997</th>\n",
       "      <td>female</td>\n",
       "      <td>group C</td>\n",
       "      <td>high school</td>\n",
       "      <td>free/reduced</td>\n",
       "      <td>completed</td>\n",
       "      <td>59</td>\n",
       "      <td>71</td>\n",
       "      <td>65</td>\n",
       "      <td>195</td>\n",
       "      <td>65.000000</td>\n",
       "    </tr>\n",
       "    <tr>\n",
       "      <th>998</th>\n",
       "      <td>female</td>\n",
       "      <td>group D</td>\n",
       "      <td>some college</td>\n",
       "      <td>standard</td>\n",
       "      <td>completed</td>\n",
       "      <td>68</td>\n",
       "      <td>78</td>\n",
       "      <td>77</td>\n",
       "      <td>223</td>\n",
       "      <td>74.333333</td>\n",
       "    </tr>\n",
       "    <tr>\n",
       "      <th>999</th>\n",
       "      <td>female</td>\n",
       "      <td>group D</td>\n",
       "      <td>some college</td>\n",
       "      <td>free/reduced</td>\n",
       "      <td>none</td>\n",
       "      <td>77</td>\n",
       "      <td>86</td>\n",
       "      <td>86</td>\n",
       "      <td>249</td>\n",
       "      <td>83.000000</td>\n",
       "    </tr>\n",
       "  </tbody>\n",
       "</table>\n",
       "<p>1000 rows × 10 columns</p>\n",
       "</div>"
      ],
      "text/plain": [
       "     gender race/ethnicity parental level of education         lunch  \\\n",
       "0    female        group B           bachelor's degree      standard   \n",
       "1    female        group C                some college      standard   \n",
       "2    female        group B             master's degree      standard   \n",
       "3      male        group A          associate's degree  free/reduced   \n",
       "4      male        group C                some college      standard   \n",
       "..      ...            ...                         ...           ...   \n",
       "995  female        group E             master's degree      standard   \n",
       "996    male        group C                 high school  free/reduced   \n",
       "997  female        group C                 high school  free/reduced   \n",
       "998  female        group D                some college      standard   \n",
       "999  female        group D                some college  free/reduced   \n",
       "\n",
       "    test preparation course  math score  reading score  writing score  \\\n",
       "0                      none          72             72             74   \n",
       "1                 completed          69             90             88   \n",
       "2                      none          90             95             93   \n",
       "3                      none          47             57             44   \n",
       "4                      none          76             78             75   \n",
       "..                      ...         ...            ...            ...   \n",
       "995               completed          88             99             95   \n",
       "996                    none          62             55             55   \n",
       "997               completed          59             71             65   \n",
       "998               completed          68             78             77   \n",
       "999                    none          77             86             86   \n",
       "\n",
       "     total score  average score  \n",
       "0            218      72.666667  \n",
       "1            247      82.333333  \n",
       "2            278      92.666667  \n",
       "3            148      49.333333  \n",
       "4            229      76.333333  \n",
       "..           ...            ...  \n",
       "995          282      94.000000  \n",
       "996          172      57.333333  \n",
       "997          195      65.000000  \n",
       "998          223      74.333333  \n",
       "999          249      83.000000  \n",
       "\n",
       "[1000 rows x 10 columns]"
      ]
     },
     "execution_count": 35,
     "metadata": {},
     "output_type": "execute_result"
    }
   ],
   "source": [
    "df"
   ]
  },
  {
   "cell_type": "code",
   "execution_count": 36,
   "id": "ab47922e",
   "metadata": {},
   "outputs": [
    {
     "data": {
      "image/png": "[encoded data removed]",
      "text/plain": [
       "<Figure size 2600x1000 with 3 Axes>"
      ]
     },
     "metadata": {},
     "output_type": "display_data"
    }
   ],
   "source": [
    "plt.subplots(1,3,figsize=(26,10))\n",
    "plt.subplot(141)\n",
    "sns.histplot(data=df,x='average score',hue='parental level of education',kde=True)\n",
    "plt.subplot(142)\n",
    "sns.histplot(data=df[df.gender == 'female'],x='average score',hue='parental level of education',kde=True)\n",
    "plt.subplot(143)\n",
    "sns.histplot(data=df[df.gender == 'male'],hue='parental level of education',kde = True,x='average score')\n",
    "plt.show()"
   ]
  },
  {
   "cell_type": "code",
   "execution_count": 37,
   "id": "f4e4a48f",
   "metadata": {},
   "outputs": [
    {
     "data": {
      "image/png": "[encoded data removed]",
      "text/plain": [
       "<Figure size 2600x600 with 4 Axes>"
      ]
     },
     "metadata": {},
     "output_type": "display_data"
    }
   ],
   "source": [
    "plt.figure(figsize=(26,6))\n",
    "plt.subplot(1,4,1)\n",
    "plt.title(\"Maths Score\")\n",
    "sns.violinplot(y='math score',data=df,color='red',linewidth=3)\n",
    "plt.subplot(1,4,2)\n",
    "plt.title(\"Reading Score \")\n",
    "sns.violinplot(data=df,y = 'reading score',color='green',linewidth=3)\n",
    "plt.subplot(1,4,3)\n",
    "plt.title(\"Writing Score\")\n",
    "sns.violinplot(data=df,y='writing score',color=None,linewidth=3)\n",
    "plt.subplot(1,4,4)\n",
    "plt.title(\"Total Score\")\n",
    "sns.violinplot(data=df,y='total score',color='orange',linewidth=3)\n",
    "plt.show()\n"
   ]
  },
  {
   "cell_type": "code",
   "execution_count": 38,
   "id": "5589b612",
   "metadata": {},
   "outputs": [
    {
     "data": {
      "image/png": "[encoded data removed]",
      "text/plain": [
       "<Figure size 2600x1000 with 4 Axes>"
      ]
     },
     "metadata": {},
     "output_type": "display_data"
    }
   ],
   "source": [
    "plt.figure(figsize=(26,10))\n",
    "plt.subplot(2,2,1)\n",
    "sns.barplot(x=df['lunch'],y=df['math score'],hue=df['test preparation course'])\n",
    "plt.subplot(2,2,2)\n",
    "sns.barplot(x=df['lunch'],y=df['reading score'],hue=df['test preparation course'])\n",
    "plt.subplot(2,2,3)\n",
    "sns.barplot(x=df['lunch'],y=df['writing score'],hue=df['test preparation course'])\n",
    "plt.subplot(2,2,4)\n",
    "sns.barplot(x=df['lunch'],y=df['total score'],hue=df['test preparation course'])\n",
    "plt.show()"
   ]
  },
  {
   "cell_type": "markdown",
   "id": "c104d475",
   "metadata": {},
   "source": [
    "### Results & Insights\n",
    "- (Write observations from the output of this code block.)\n"
   ]
  },
  {
   "cell_type": "code",
   "execution_count": 39,
   "id": "dcb753d2",
   "metadata": {},
   "outputs": [
    {
     "data": {
      "application/vnd.plotly.v1+json": {
       "config": {
        "plotlyServerURL": "https://plot.ly"
       },
       "data": [
        {
         "domain": {
          "x": [
           0,
           1
          ],
          "y": [
           0,
           1
          ]
         },
         "hole": 0.5,
         "hovertemplate": "gender=%{label}<br>total score=%{value}<extra></extra>",
         "labels": [
          "female",
          "female",
          "female",
          "male",
          "male",
          "female",
          "female",
          "male",
          "male",
          "female",
          "male",
          "male",
          "female",
          "male",
          "female",
          "female",
          "male",
          "female",
          "male",
          "female",
          "male",
          "female",
          "male",
          "female",
          "male",
          "male",
          "male",
          "female",
          "male",
          "female",
          "female",
          "female",
          "female",
          "male",
          "male",
          "male",
          "female",
          "female",
          "female",
          "male",
          "male",
          "female",
          "female",
          "male",
          "female",
          "male",
          "female",
          "female",
          "female",
          "male",
          "male",
          "male",
          "male",
          "male",
          "female",
          "female",
          "female",
          "male",
          "male",
          "female",
          "male",
          "male",
          "male",
          "female",
          "female",
          "male",
          "male",
          "female",
          "male",
          "female",
          "female",
          "male",
          "female",
          "male",
          "male",
          "male",
          "male",
          "male",
          "female",
          "female",
          "female",
          "male",
          "male",
          "male",
          "male",
          "female",
          "female",
          "female",
          "female",
          "female",
          "female",
          "male",
          "male",
          "male",
          "female",
          "male",
          "male",
          "female",
          "female",
          "female",
          "male",
          "male",
          "female",
          "male",
          "male",
          "female",
          "female",
          "male",
          "female",
          "female",
          "female",
          "male",
          "male",
          "female",
          "female",
          "male",
          "female",
          "female",
          "female",
          "female",
          "female",
          "male",
          "female",
          "male",
          "male",
          "female",
          "male",
          "male",
          "male",
          "female",
          "male",
          "male",
          "male",
          "female",
          "male",
          "male",
          "male",
          "male",
          "female",
          "male",
          "female",
          "female",
          "female",
          "male",
          "male",
          "female",
          "male",
          "male",
          "female",
          "male",
          "male",
          "male",
          "female",
          "male",
          "male",
          "female",
          "female",
          "male",
          "female",
          "male",
          "male",
          "female",
          "male",
          "male",
          "female",
          "female",
          "male",
          "female",
          "female",
          "female",
          "male",
          "male",
          "female",
          "female",
          "female",
          "female",
          "female",
          "female",
          "female",
          "female",
          "male",
          "female",
          "female",
          "female",
          "male",
          "male",
          "male",
          "male",
          "male",
          "female",
          "female",
          "male",
          "female",
          "male",
          "female",
          "male",
          "male",
          "male",
          "female",
          "female",
          "female",
          "female",
          "male",
          "female",
          "male",
          "male",
          "male",
          "male",
          "female",
          "female",
          "male",
          "male",
          "female",
          "male",
          "male",
          "male",
          "female",
          "female",
          "male",
          "male",
          "female",
          "male",
          "female",
          "male",
          "female",
          "female",
          "female",
          "male",
          "male",
          "female",
          "male",
          "male",
          "female",
          "male",
          "male",
          "male",
          "male",
          "female",
          "male",
          "male",
          "male",
          "female",
          "female",
          "male",
          "male",
          "male",
          "male",
          "female",
          "female",
          "male",
          "male",
          "female",
          "female",
          "male",
          "male",
          "female",
          "female",
          "male",
          "female",
          "female",
          "female",
          "male",
          "female",
          "female",
          "male",
          "male",
          "female",
          "female",
          "female",
          "female",
          "male",
          "male",
          "female",
          "female",
          "male",
          "male",
          "female",
          "female",
          "female",
          "male",
          "male",
          "male",
          "female",
          "female",
          "female",
          "male",
          "male",
          "female",
          "male",
          "male",
          "male",
          "male",
          "male",
          "female",
          "male",
          "male",
          "male",
          "male",
          "male",
          "male",
          "male",
          "male",
          "female",
          "male",
          "female",
          "male",
          "male",
          "male",
          "female",
          "female",
          "female",
          "male",
          "male",
          "female",
          "female",
          "male",
          "female",
          "male",
          "male",
          "female",
          "female",
          "female",
          "female",
          "female",
          "female",
          "female",
          "male",
          "male",
          "male",
          "female",
          "male",
          "male",
          "male",
          "male",
          "female",
          "female",
          "male",
          "male",
          "female",
          "female",
          "male",
          "female",
          "female",
          "male",
          "male",
          "female",
          "male",
          "female",
          "male",
          "male",
          "female",
          "male",
          "female",
          "female",
          "female",
          "female",
          "male",
          "female",
          "male",
          "female",
          "female",
          "male",
          "female",
          "female",
          "male",
          "male",
          "male",
          "male",
          "female",
          "female",
          "male",
          "female",
          "male",
          "female",
          "female",
          "male",
          "female",
          "female",
          "female",
          "male",
          "female",
          "male",
          "male",
          "female",
          "female",
          "female",
          "female",
          "female",
          "female",
          "male",
          "male",
          "female",
          "male",
          "male",
          "female",
          "male",
          "female",
          "female",
          "male",
          "male",
          "female",
          "male",
          "female",
          "female",
          "female",
          "female",
          "male",
          "female",
          "female",
          "male",
          "female",
          "male",
          "male",
          "male",
          "female",
          "male",
          "male",
          "male",
          "male",
          "male",
          "female",
          "female",
          "female",
          "female",
          "male",
          "female",
          "male",
          "male",
          "male",
          "male",
          "male",
          "female",
          "male",
          "female",
          "male",
          "male",
          "male",
          "male",
          "male",
          "male",
          "female",
          "female",
          "female",
          "female",
          "male",
          "female",
          "male",
          "male",
          "male",
          "male",
          "female",
          "female",
          "female",
          "male",
          "female",
          "male",
          "female",
          "male",
          "female",
          "male",
          "male",
          "male",
          "female",
          "female",
          "male",
          "female",
          "female",
          "male",
          "female",
          "male",
          "female",
          "female",
          "female",
          "female",
          "female",
          "female",
          "male",
          "male",
          "female",
          "male",
          "male",
          "female",
          "male",
          "male",
          "female",
          "male",
          "male",
          "female",
          "male",
          "male",
          "female",
          "female",
          "female",
          "female",
          "female",
          "male",
          "female",
          "female",
          "female",
          "male",
          "female",
          "female",
          "male",
          "female",
          "female",
          "female",
          "male",
          "male",
          "male",
          "female",
          "male",
          "male",
          "male",
          "female",
          "female",
          "female",
          "female",
          "female",
          "female",
          "female",
          "male",
          "female",
          "male",
          "male",
          "male",
          "male",
          "male",
          "female",
          "female",
          "female",
          "female",
          "female",
          "male",
          "female",
          "male",
          "female",
          "male",
          "female",
          "male",
          "male",
          "male",
          "male",
          "female",
          "female",
          "female",
          "male",
          "female",
          "male",
          "female",
          "male",
          "male",
          "male",
          "female",
          "male",
          "male",
          "female",
          "female",
          "male",
          "female",
          "male",
          "female",
          "female",
          "male",
          "female",
          "male",
          "male",
          "female",
          "female",
          "male",
          "male",
          "male",
          "male",
          "female",
          "female",
          "female",
          "male",
          "male",
          "female",
          "female",
          "female",
          "female",
          "female",
          "female",
          "female",
          "female",
          "female",
          "female",
          "female",
          "female",
          "female",
          "male",
          "male",
          "male",
          "female",
          "female",
          "female",
          "male",
          "male",
          "female",
          "female",
          "female",
          "female",
          "female",
          "male",
          "male",
          "male",
          "female",
          "female",
          "female",
          "female",
          "male",
          "female",
          "male",
          "female",
          "female",
          "female",
          "female",
          "male",
          "male",
          "male",
          "female",
          "male",
          "male",
          "male",
          "female",
          "male",
          "male",
          "male",
          "male",
          "female",
          "male",
          "male",
          "female",
          "female",
          "male",
          "male",
          "female",
          "female",
          "male",
          "female",
          "male",
          "female",
          "female",
          "female",
          "male",
          "female",
          "female",
          "female",
          "female",
          "female",
          "male",
          "female",
          "female",
          "female",
          "female",
          "female",
          "male",
          "male",
          "female",
          "male",
          "male",
          "male",
          "female",
          "female",
          "male",
          "female",
          "female",
          "female",
          "male",
          "male",
          "female",
          "male",
          "female",
          "female",
          "female",
          "female",
          "female",
          "female",
          "male",
          "male",
          "female",
          "male",
          "male",
          "female",
          "male",
          "female",
          "male",
          "male",
          "male",
          "male",
          "female",
          "female",
          "female",
          "female",
          "female",
          "female",
          "female",
          "female",
          "female",
          "male",
          "female",
          "female",
          "male",
          "female",
          "female",
          "male",
          "male",
          "male",
          "male",
          "female",
          "male",
          "female",
          "female",
          "male",
          "female",
          "female",
          "male",
          "female",
          "female",
          "male",
          "female",
          "male",
          "female",
          "male",
          "male",
          "male",
          "female",
          "male",
          "female",
          "male",
          "female",
          "male",
          "female",
          "male",
          "female",
          "male",
          "male",
          "female",
          "male",
          "male",
          "male",
          "female",
          "female",
          "female",
          "male",
          "male",
          "male",
          "male",
          "female",
          "male",
          "male",
          "male",
          "male",
          "female",
          "male",
          "female",
          "male",
          "male",
          "female",
          "male",
          "female",
          "female",
          "male",
          "female",
          "male",
          "female",
          "female",
          "male",
          "female",
          "male",
          "male",
          "male",
          "female",
          "female",
          "male",
          "female",
          "female",
          "female",
          "female",
          "male",
          "female",
          "female",
          "female",
          "female",
          "male",
          "female",
          "female",
          "female",
          "male",
          "female",
          "female",
          "female",
          "male",
          "male",
          "female",
          "female",
          "male",
          "female",
          "male",
          "female",
          "male",
          "male",
          "female",
          "female",
          "female",
          "male",
          "female",
          "female",
          "male",
          "male",
          "male",
          "male",
          "female",
          "male",
          "female",
          "male",
          "female",
          "male",
          "female",
          "female",
          "female",
          "female",
          "male",
          "female",
          "female",
          "male",
          "female",
          "female",
          "female",
          "male",
          "female",
          "female",
          "male",
          "female",
          "male",
          "female",
          "male",
          "female",
          "male",
          "female",
          "female",
          "male",
          "female",
          "male",
          "female",
          "male",
          "male",
          "male",
          "female",
          "male",
          "male",
          "female",
          "female",
          "male",
          "male",
          "female",
          "male",
          "female",
          "male",
          "male",
          "female",
          "female",
          "male",
          "female",
          "male",
          "male",
          "male",
          "male",
          "male",
          "male",
          "male",
          "female",
          "male",
          "male",
          "female",
          "male",
          "male",
          "male",
          "female",
          "female",
          "male",
          "female",
          "female",
          "male",
          "female",
          "female",
          "female",
          "male",
          "female",
          "male",
          "female",
          "female",
          "female",
          "male",
          "female",
          "female",
          "male",
          "female",
          "male",
          "female",
          "male",
          "female",
          "female",
          "female",
          "female",
          "male",
          "male",
          "female",
          "female",
          "male",
          "male",
          "female",
          "female",
          "female",
          "female",
          "female",
          "male",
          "female",
          "female",
          "male",
          "male",
          "female",
          "male",
          "female",
          "male",
          "male",
          "male",
          "female",
          "male",
          "female",
          "male",
          "male",
          "male",
          "male",
          "male",
          "male",
          "male",
          "female",
          "male",
          "male",
          "male",
          "female",
          "male",
          "male",
          "female",
          "female",
          "male",
          "female",
          "male",
          "female",
          "male",
          "female",
          "female",
          "male",
          "female",
          "male",
          "male",
          "female",
          "female",
          "male",
          "female",
          "female",
          "female",
          "female",
          "male",
          "female",
          "male",
          "male",
          "female",
          "female",
          "female",
          "male",
          "female",
          "female",
          "female",
          "female",
          "male",
          "male",
          "male",
          "female",
          "female",
          "male",
          "male",
          "female",
          "female",
          "male",
          "female",
          "male",
          "female",
          "female",
          "male",
          "female",
          "female",
          "female",
          "male",
          "female",
          "male",
          "female",
          "female",
          "female"
         ],
         "legendgroup": "",
         "name": "",
         "showlegend": true,
         "type": "pie",
         "values": {
          "bdata": "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",
          "dtype": "i2"
         }
        }
       ],
       "layout": {
        "legend": {
         "tracegroupgap": 0
        },
        "margin": {
         "t": 60
        },
        "template": {
         "data": {
          "bar": [
           {
            "error_x": {
             "color": "#2a3f5f"
            },
            "error_y": {
             "color": "#2a3f5f"
            },
            "marker": {
             "line": {
              "color": "#E5ECF6",
              "width": 0.5
             },
             "pattern": {
              "fillmode": "overlay",
              "size": 10,
              "solidity": 0.2
             }
            },
            "type": "bar"
           }
          ],
          "barpolar": [
           {
            "marker": {
             "line": {
              "color": "#E5ECF6",
              "width": 0.5
             },
             "pattern": {
              "fillmode": "overlay",
              "size": 10,
              "solidity": 0.2
             }
            },
            "type": "barpolar"
           }
          ],
          "carpet": [
           {
            "aaxis": {
             "endlinecolor": "#2a3f5f",
             "gridcolor": "white",
             "linecolor": "white",
             "minorgridcolor": "white",
             "startlinecolor": "#2a3f5f"
            },
            "baxis": {
             "endlinecolor": "#2a3f5f",
             "gridcolor": "white",
             "linecolor": "white",
             "minorgridcolor": "white",
             "startlinecolor": "#2a3f5f"
            },
            "type": "carpet"
           }
          ],
          "choropleth": [
           {
            "colorbar": {
             "outlinewidth": 0,
             "ticks": ""
            },
            "type": "choropleth"
           }
          ],
          "contour": [
           {
            "colorbar": {
             "outlinewidth": 0,
             "ticks": ""
            },
            "colorscale": [
             [
              0,
              "#0d0887"
             ],
             [
              0.1111111111111111,
              "#46039f"
             ],
             [
              0.2222222222222222,
              "#7201a8"
             ],
             [
              0.3333333333333333,
              "#9c179e"
             ],
             [
              0.4444444444444444,
              "#bd3786"
             ],
             [
              0.5555555555555556,
              "#d8576b"
             ],
             [
              0.6666666666666666,
              "#ed7953"
             ],
             [
              0.7777777777777778,
              "#fb9f3a"
             ],
             [
              0.8888888888888888,
              "#fdca26"
             ],
             [
              1,
              "#f0f921"
             ]
            ],
            "type": "contour"
           }
          ],
          "contourcarpet": [
           {
            "colorbar": {
             "outlinewidth": 0,
             "ticks": ""
            },
            "type": "contourcarpet"
           }
          ],
          "heatmap": [
           {
            "colorbar": {
             "outlinewidth": 0,
             "ticks": ""
            },
            "colorscale": [
             [
              0,
              "#0d0887"
             ],
             [
              0.1111111111111111,
              "#46039f"
             ],
             [
              0.2222222222222222,
              "#7201a8"
             ],
             [
              0.3333333333333333,
              "#9c179e"
             ],
             [
              0.4444444444444444,
              "#bd3786"
             ],
             [
              0.5555555555555556,
              "#d8576b"
             ],
             [
              0.6666666666666666,
              "#ed7953"
             ],
             [
              0.7777777777777778,
              "#fb9f3a"
             ],
             [
              0.8888888888888888,
              "#fdca26"
             ],
             [
              1,
              "#f0f921"
             ]
            ],
            "type": "heatmap"
           }
          ],
          "histogram": [
           {
            "marker": {
             "pattern": {
              "fillmode": "overlay",
              "size": 10,
              "solidity": 0.2
             }
            },
            "type": "histogram"
           }
          ],
          "histogram2d": [
           {
            "colorbar": {
             "outlinewidth": 0,
             "ticks": ""
            },
            "colorscale": [
             [
              0,
              "#0d0887"
             ],
             [
              0.1111111111111111,
              "#46039f"
             ],
             [
              0.2222222222222222,
              "#7201a8"
             ],
             [
              0.3333333333333333,
              "#9c179e"
             ],
             [
              0.4444444444444444,
              "#bd3786"
             ],
             [
              0.5555555555555556,
              "#d8576b"
             ],
             [
              0.6666666666666666,
              "#ed7953"
             ],
             [
              0.7777777777777778,
              "#fb9f3a"
             ],
             [
              0.8888888888888888,
              "#fdca26"
             ],
             [
              1,
              "#f0f921"
             ]
            ],
            "type": "histogram2d"
           }
          ],
          "histogram2dcontour": [
           {
            "colorbar": {
             "outlinewidth": 0,
             "ticks": ""
            },
            "colorscale": [
             [
              0,
              "#0d0887"
             ],
             [
              0.1111111111111111,
              "#46039f"
             ],
             [
              0.2222222222222222,
              "#7201a8"
             ],
             [
              0.3333333333333333,
              "#9c179e"
             ],
             [
              0.4444444444444444,
              "#bd3786"
             ],
             [
              0.5555555555555556,
              "#d8576b"
             ],
             [
              0.6666666666666666,
              "#ed7953"
             ],
             [
              0.7777777777777778,
              "#fb9f3a"
             ],
             [
              0.8888888888888888,
              "#fdca26"
             ],
             [
              1,
              "#f0f921"
             ]
            ],
            "type": "histogram2dcontour"
           }
          ],
          "mesh3d": [
           {
            "colorbar": {
             "outlinewidth": 0,
             "ticks": ""
            },
            "type": "mesh3d"
           }
          ],
          "parcoords": [
           {
            "line": {
             "colorbar": {
              "outlinewidth": 0,
              "ticks": ""
             }
            },
            "type": "parcoords"
           }
          ],
          "pie": [
           {
            "automargin": true,
            "type": "pie"
           }
          ],
          "scatter": [
           {
            "fillpattern": {
             "fillmode": "overlay",
             "size": 10,
             "solidity": 0.2
            },
            "type": "scatter"
           }
          ],
          "scatter3d": [
           {
            "line": {
             "colorbar": {
              "outlinewidth": 0,
              "ticks": ""
             }
            },
            "marker": {
             "colorbar": {
              "outlinewidth": 0,
              "ticks": ""
             }
            },
            "type": "scatter3d"
           }
          ],
          "scattercarpet": [
           {
            "marker": {
             "colorbar": {
              "outlinewidth": 0,
              "ticks": ""
             }
            },
            "type": "scattercarpet"
           }
          ],
          "scattergeo": [
           {
            "marker": {
             "colorbar": {
              "outlinewidth": 0,
              "ticks": ""
             }
            },
            "type": "scattergeo"
           }
          ],
          "scattergl": [
           {
            "marker": {
             "colorbar": {
              "outlinewidth": 0,
              "ticks": ""
             }
            },
            "type": "scattergl"
           }
          ],
          "scattermap": [
           {
            "marker": {
             "colorbar": {
              "outlinewidth": 0,
              "ticks": ""
             }
            },
            "type": "scattermap"
           }
          ],
          "scattermapbox": [
           {
            "marker": {
             "colorbar": {
              "outlinewidth": 0,
              "ticks": ""
             }
            },
            "type": "scattermapbox"
           }
          ],
          "scatterpolar": [
           {
            "marker": {
             "colorbar": {
              "outlinewidth": 0,
              "ticks": ""
             }
            },
            "type": "scatterpolar"
           }
          ],
          "scatterpolargl": [
           {
            "marker": {
             "colorbar": {
              "outlinewidth": 0,
              "ticks": ""
             }
            },
            "type": "scatterpolargl"
           }
          ],
          "scatterternary": [
           {
            "marker": {
             "colorbar": {
              "outlinewidth": 0,
              "ticks": ""
             }
            },
            "type": "scatterternary"
           }
          ],
          "surface": [
           {
            "colorbar": {
             "outlinewidth": 0,
             "ticks": ""
            },
            "colorscale": [
             [
              0,
              "#0d0887"
             ],
             [
              0.1111111111111111,
              "#46039f"
             ],
             [
              0.2222222222222222,
              "#7201a8"
             ],
             [
              0.3333333333333333,
              "#9c179e"
             ],
             [
              0.4444444444444444,
              "#bd3786"
             ],
             [
              0.5555555555555556,
              "#d8576b"
             ],
             [
              0.6666666666666666,
              "#ed7953"
             ],
             [
              0.7777777777777778,
              "#fb9f3a"
             ],
             [
              0.8888888888888888,
              "#fdca26"
             ],
             [
              1,
              "#f0f921"
             ]
            ],
            "type": "surface"
           }
          ],
          "table": [
           {
            "cells": {
             "fill": {
              "color": "#EBF0F8"
             },
             "line": {
              "color": "white"
             }
            },
            "header": {
             "fill": {
              "color": "#C8D4E3"
             },
             "line": {
              "color": "white"
             }
            },
            "type": "table"
           }
          ]
         },
         "layout": {
          "annotationdefaults": {
           "arrowcolor": "#2a3f5f",
           "arrowhead": 0,
           "arrowwidth": 1
          },
          "autotypenumbers": "strict",
          "coloraxis": {
           "colorbar": {
            "outlinewidth": 0,
            "ticks": ""
           }
          },
          "colorscale": {
           "diverging": [
            [
             0,
             "#8e0152"
            ],
            [
             0.1,
             "#c51b7d"
            ],
            [
             0.2,
             "#de77ae"
            ],
            [
             0.3,
             "#f1b6da"
            ],
            [
             0.4,
             "#fde0ef"
            ],
            [
             0.5,
             "#f7f7f7"
            ],
            [
             0.6,
             "#e6f5d0"
            ],
            [
             0.7,
             "#b8e186"
            ],
            [
             0.8,
             "#7fbc41"
            ],
            [
             0.9,
             "#4d9221"
            ],
            [
             1,
             "#276419"
            ]
           ],
           "sequential": [
            [
             0,
             "#0d0887"
            ],
            [
             0.1111111111111111,
             "#46039f"
            ],
            [
             0.2222222222222222,
             "#7201a8"
            ],
            [
             0.3333333333333333,
             "#9c179e"
            ],
            [
             0.4444444444444444,
             "#bd3786"
            ],
            [
             0.5555555555555556,
             "#d8576b"
            ],
            [
             0.6666666666666666,
             "#ed7953"
            ],
            [
             0.7777777777777778,
             "#fb9f3a"
            ],
            [
             0.8888888888888888,
             "#fdca26"
            ],
            [
             1,
             "#f0f921"
            ]
           ],
           "sequentialminus": [
            [
             0,
             "#0d0887"
            ],
            [
             0.1111111111111111,
             "#46039f"
            ],
            [
             0.2222222222222222,
             "#7201a8"
            ],
            [
             0.3333333333333333,
             "#9c179e"
            ],
            [
             0.4444444444444444,
             "#bd3786"
            ],
            [
             0.5555555555555556,
             "#d8576b"
            ],
            [
             0.6666666666666666,
             "#ed7953"
            ],
            [
             0.7777777777777778,
             "#fb9f3a"
            ],
            [
             0.8888888888888888,
             "#fdca26"
            ],
            [
             1,
             "#f0f921"
            ]
           ]
          },
          "colorway": [
           "#636efa",
           "#EF553B",
           "#00cc96",
           "#ab63fa",
           "#FFA15A",
           "#19d3f3",
           "#FF6692",
           "#B6E880",
           "#FF97FF",
           "#FECB52"
          ],
          "font": {
           "color": "#2a3f5f"
          },
          "geo": {
           "bgcolor": "white",
           "lakecolor": "white",
           "landcolor": "#E5ECF6",
           "showlakes": true,
           "showland": true,
           "subunitcolor": "white"
          },
          "hoverlabel": {
           "align": "left"
          },
          "hovermode": "closest",
          "mapbox": {
           "style": "light"
          },
          "paper_bgcolor": "white",
          "plot_bgcolor": "#E5ECF6",
          "polar": {
           "angularaxis": {
            "gridcolor": "white",
            "linecolor": "white",
            "ticks": ""
           },
           "bgcolor": "#E5ECF6",
           "radialaxis": {
            "gridcolor": "white",
            "linecolor": "white",
            "ticks": ""
           }
          },
          "scene": {
           "xaxis": {
            "backgroundcolor": "#E5ECF6",
            "gridcolor": "white",
            "gridwidth": 2,
            "linecolor": "white",
            "showbackground": true,
            "ticks": "",
            "zerolinecolor": "white"
           },
           "yaxis": {
            "backgroundcolor": "#E5ECF6",
            "gridcolor": "white",
            "gridwidth": 2,
            "linecolor": "white",
            "showbackground": true,
            "ticks": "",
            "zerolinecolor": "white"
           },
           "zaxis": {
            "backgroundcolor": "#E5ECF6",
            "gridcolor": "white",
            "gridwidth": 2,
            "linecolor": "white",
            "showbackground": true,
            "ticks": "",
            "zerolinecolor": "white"
           }
          },
          "shapedefaults": {
           "line": {
            "color": "#2a3f5f"
           }
          },
          "ternary": {
           "aaxis": {
            "gridcolor": "white",
            "linecolor": "white",
            "ticks": ""
           },
           "baxis": {
            "gridcolor": "white",
            "linecolor": "white",
            "ticks": ""
           },
           "bgcolor": "#E5ECF6",
           "caxis": {
            "gridcolor": "white",
            "linecolor": "white",
            "ticks": ""
           }
          },
          "title": {
           "x": 0.05
          },
          "xaxis": {
           "automargin": true,
           "gridcolor": "white",
           "linecolor": "white",
           "ticks": "",
           "title": {
            "standoff": 15
           },
           "zerolinecolor": "white",
           "zerolinewidth": 2
          },
          "yaxis": {
           "automargin": true,
           "gridcolor": "white",
           "linecolor": "white",
           "ticks": "",
           "title": {
            "standoff": 15
           },
           "zerolinecolor": "white",
           "zerolinewidth": 2
          }
         }
        }
       }
      }
     },
     "metadata": {},
     "output_type": "display_data"
    }
   ],
   "source": [
    "figure = px.pie(hole=0.5,data_frame=df,values='total score',names='gender')\n",
    "figure.show()"
   ]
  },
  {
   "cell_type": "markdown",
   "id": "4d7f8fc6",
   "metadata": {},
   "source": [
    "### Code Explanation\n",
    "The following code performs a step in the data analysis process.\n"
   ]
  },
  {
   "cell_type": "code",
   "execution_count": 40,
   "id": "c77494d9",
   "metadata": {},
   "outputs": [
    {
     "data": {
      "application/vnd.plotly.v1+json": {
       "config": {
        "plotlyServerURL": "https://plot.ly"
       },
       "data": [
        {
         "domain": {
          "x": [
           0,
           1
          ],
          "y": [
           0,
           1
          ]
         },
         "hole": 0.5,
         "hovertemplate": "gender=%{label}<br>average score=%{value}<extra></extra>",
         "labels": [
          "female",
          "female",
          "female",
          "male",
          "male",
          "female",
          "female",
          "male",
          "male",
          "female",
          "male",
          "male",
          "female",
          "male",
          "female",
          "female",
          "male",
          "female",
          "male",
          "female",
          "male",
          "female",
          "male",
          "female",
          "male",
          "male",
          "male",
          "female",
          "male",
          "female",
          "female",
          "female",
          "female",
          "male",
          "male",
          "male",
          "female",
          "female",
          "female",
          "male",
          "male",
          "female",
          "female",
          "male",
          "female",
          "male",
          "female",
          "female",
          "female",
          "male",
          "male",
          "male",
          "male",
          "male",
          "female",
          "female",
          "female",
          "male",
          "male",
          "female",
          "male",
          "male",
          "male",
          "female",
          "female",
          "male",
          "male",
          "female",
          "male",
          "female",
          "female",
          "male",
          "female",
          "male",
          "male",
          "male",
          "male",
          "male",
          "female",
          "female",
          "female",
          "male",
          "male",
          "male",
          "male",
          "female",
          "female",
          "female",
          "female",
          "female",
          "female",
          "male",
          "male",
          "male",
          "female",
          "male",
          "male",
          "female",
          "female",
          "female",
          "male",
          "male",
          "female",
          "male",
          "male",
          "female",
          "female",
          "male",
          "female",
          "female",
          "female",
          "male",
          "male",
          "female",
          "female",
          "male",
          "female",
          "female",
          "female",
          "female",
          "female",
          "male",
          "female",
          "male",
          "male",
          "female",
          "male",
          "male",
          "male",
          "female",
          "male",
          "male",
          "male",
          "female",
          "male",
          "male",
          "male",
          "male",
          "female",
          "male",
          "female",
          "female",
          "female",
          "male",
          "male",
          "female",
          "male",
          "male",
          "female",
          "male",
          "male",
          "male",
          "female",
          "male",
          "male",
          "female",
          "female",
          "male",
          "female",
          "male",
          "male",
          "female",
          "male",
          "male",
          "female",
          "female",
          "male",
          "female",
          "female",
          "female",
          "male",
          "male",
          "female",
          "female",
          "female",
          "female",
          "female",
          "female",
          "female",
          "female",
          "male",
          "female",
          "female",
          "female",
          "male",
          "male",
          "male",
          "male",
          "male",
          "female",
          "female",
          "male",
          "female",
          "male",
          "female",
          "male",
          "male",
          "male",
          "female",
          "female",
          "female",
          "female",
          "male",
          "female",
          "male",
          "male",
          "male",
          "male",
          "female",
          "female",
          "male",
          "male",
          "female",
          "male",
          "male",
          "male",
          "female",
          "female",
          "male",
          "male",
          "female",
          "male",
          "female",
          "male",
          "female",
          "female",
          "female",
          "male",
          "male",
          "female",
          "male",
          "male",
          "female",
          "male",
          "male",
          "male",
          "male",
          "female",
          "male",
          "male",
          "male",
          "female",
          "female",
          "male",
          "male",
          "male",
          "male",
          "female",
          "female",
          "male",
          "male",
          "female",
          "female",
          "male",
          "male",
          "female",
          "female",
          "male",
          "female",
          "female",
          "female",
          "male",
          "female",
          "female",
          "male",
          "male",
          "female",
          "female",
          "female",
          "female",
          "male",
          "male",
          "female",
          "female",
          "male",
          "male",
          "female",
          "female",
          "female",
          "male",
          "male",
          "male",
          "female",
          "female",
          "female",
          "male",
          "male",
          "female",
          "male",
          "male",
          "male",
          "male",
          "male",
          "female",
          "male",
          "male",
          "male",
          "male",
          "male",
          "male",
          "male",
          "male",
          "female",
          "male",
          "female",
          "male",
          "male",
          "male",
          "female",
          "female",
          "female",
          "male",
          "male",
          "female",
          "female",
          "male",
          "female",
          "male",
          "male",
          "female",
          "female",
          "female",
          "female",
          "female",
          "female",
          "female",
          "male",
          "male",
          "male",
          "female",
          "male",
          "male",
          "male",
          "male",
          "female",
          "female",
          "male",
          "male",
          "female",
          "female",
          "male",
          "female",
          "female",
          "male",
          "male",
          "female",
          "male",
          "female",
          "male",
          "male",
          "female",
          "male",
          "female",
          "female",
          "female",
          "female",
          "male",
          "female",
          "male",
          "female",
          "female",
          "male",
          "female",
          "female",
          "male",
          "male",
          "male",
          "male",
          "female",
          "female",
          "male",
          "female",
          "male",
          "female",
          "female",
          "male",
          "female",
          "female",
          "female",
          "male",
          "female",
          "male",
          "male",
          "female",
          "female",
          "female",
          "female",
          "female",
          "female",
          "male",
          "male",
          "female",
          "male",
          "male",
          "female",
          "male",
          "female",
          "female",
          "male",
          "male",
          "female",
          "male",
          "female",
          "female",
          "female",
          "female",
          "male",
          "female",
          "female",
          "male",
          "female",
          "male",
          "male",
          "male",
          "female",
          "male",
          "male",
          "male",
          "male",
          "male",
          "female",
          "female",
          "female",
          "female",
          "male",
          "female",
          "male",
          "male",
          "male",
          "male",
          "male",
          "female",
          "male",
          "female",
          "male",
          "male",
          "male",
          "male",
          "male",
          "male",
          "female",
          "female",
          "female",
          "female",
          "male",
          "female",
          "male",
          "male",
          "male",
          "male",
          "female",
          "female",
          "female",
          "male",
          "female",
          "male",
          "female",
          "male",
          "female",
          "male",
          "male",
          "male",
          "female",
          "female",
          "male",
          "female",
          "female",
          "male",
          "female",
          "male",
          "female",
          "female",
          "female",
          "female",
          "female",
          "female",
          "male",
          "male",
          "female",
          "male",
          "male",
          "female",
          "male",
          "male",
          "female",
          "male",
          "male",
          "female",
          "male",
          "male",
          "female",
          "female",
          "female",
          "female",
          "female",
          "male",
          "female",
          "female",
          "female",
          "male",
          "female",
          "female",
          "male",
          "female",
          "female",
          "female",
          "male",
          "male",
          "male",
          "female",
          "male",
          "male",
          "male",
          "female",
          "female",
          "female",
          "female",
          "female",
          "female",
          "female",
          "male",
          "female",
          "male",
          "male",
          "male",
          "male",
          "male",
          "female",
          "female",
          "female",
          "female",
          "female",
          "male",
          "female",
          "male",
          "female",
          "male",
          "female",
          "male",
          "male",
          "male",
          "male",
          "female",
          "female",
          "female",
          "male",
          "female",
          "male",
          "female",
          "male",
          "male",
          "male",
          "female",
          "male",
          "male",
          "female",
          "female",
          "male",
          "female",
          "male",
          "female",
          "female",
          "male",
          "female",
          "male",
          "male",
          "female",
          "female",
          "male",
          "male",
          "male",
          "male",
          "female",
          "female",
          "female",
          "male",
          "male",
          "female",
          "female",
          "female",
          "female",
          "female",
          "female",
          "female",
          "female",
          "female",
          "female",
          "female",
          "female",
          "female",
          "male",
          "male",
          "male",
          "female",
          "female",
          "female",
          "male",
          "male",
          "female",
          "female",
          "female",
          "female",
          "female",
          "male",
          "male",
          "male",
          "female",
          "female",
          "female",
          "female",
          "male",
          "female",
          "male",
          "female",
          "female",
          "female",
          "female",
          "male",
          "male",
          "male",
          "female",
          "male",
          "male",
          "male",
          "female",
          "male",
          "male",
          "male",
          "male",
          "female",
          "male",
          "male",
          "female",
          "female",
          "male",
          "male",
          "female",
          "female",
          "male",
          "female",
          "male",
          "female",
          "female",
          "female",
          "male",
          "female",
          "female",
          "female",
          "female",
          "female",
          "male",
          "female",
          "female",
          "female",
          "female",
          "female",
          "male",
          "male",
          "female",
          "male",
          "male",
          "male",
          "female",
          "female",
          "male",
          "female",
          "female",
          "female",
          "male",
          "male",
          "female",
          "male",
          "female",
          "female",
          "female",
          "female",
          "female",
          "female",
          "male",
          "male",
          "female",
          "male",
          "male",
          "female",
          "male",
          "female",
          "male",
          "male",
          "male",
          "male",
          "female",
          "female",
          "female",
          "female",
          "female",
          "female",
          "female",
          "female",
          "female",
          "male",
          "female",
          "female",
          "male",
          "female",
          "female",
          "male",
          "male",
          "male",
          "male",
          "female",
          "male",
          "female",
          "female",
          "male",
          "female",
          "female",
          "male",
          "female",
          "female",
          "male",
          "female",
          "male",
          "female",
          "male",
          "male",
          "male",
          "female",
          "male",
          "female",
          "male",
          "female",
          "male",
          "female",
          "male",
          "female",
          "male",
          "male",
          "female",
          "male",
          "male",
          "male",
          "female",
          "female",
          "female",
          "male",
          "male",
          "male",
          "male",
          "female",
          "male",
          "male",
          "male",
          "male",
          "female",
          "male",
          "female",
          "male",
          "male",
          "female",
          "male",
          "female",
          "female",
          "male",
          "female",
          "male",
          "female",
          "female",
          "male",
          "female",
          "male",
          "male",
          "male",
          "female",
          "female",
          "male",
          "female",
          "female",
          "female",
          "female",
          "male",
          "female",
          "female",
          "female",
          "female",
          "male",
          "female",
          "female",
          "female",
          "male",
          "female",
          "female",
          "female",
          "male",
          "male",
          "female",
          "female",
          "male",
          "female",
          "male",
          "female",
          "male",
          "male",
          "female",
          "female",
          "female",
          "male",
          "female",
          "female",
          "male",
          "male",
          "male",
          "male",
          "female",
          "male",
          "female",
          "male",
          "female",
          "male",
          "female",
          "female",
          "female",
          "female",
          "male",
          "female",
          "female",
          "male",
          "female",
          "female",
          "female",
          "male",
          "female",
          "female",
          "male",
          "female",
          "male",
          "female",
          "male",
          "female",
          "male",
          "female",
          "female",
          "male",
          "female",
          "male",
          "female",
          "male",
          "male",
          "male",
          "female",
          "male",
          "male",
          "female",
          "female",
          "male",
          "male",
          "female",
          "male",
          "female",
          "male",
          "male",
          "female",
          "female",
          "male",
          "female",
          "male",
          "male",
          "male",
          "male",
          "male",
          "male",
          "male",
          "female",
          "male",
          "male",
          "female",
          "male",
          "male",
          "male",
          "female",
          "female",
          "male",
          "female",
          "female",
          "male",
          "female",
          "female",
          "female",
          "male",
          "female",
          "male",
          "female",
          "female",
          "female",
          "male",
          "female",
          "female",
          "male",
          "female",
          "male",
          "female",
          "male",
          "female",
          "female",
          "female",
          "female",
          "male",
          "male",
          "female",
          "female",
          "male",
          "male",
          "female",
          "female",
          "female",
          "female",
          "female",
          "male",
          "female",
          "female",
          "male",
          "male",
          "female",
          "male",
          "female",
          "male",
          "male",
          "male",
          "female",
          "male",
          "female",
          "male",
          "male",
          "male",
          "male",
          "male",
          "male",
          "male",
          "female",
          "male",
          "male",
          "male",
          "female",
          "male",
          "male",
          "female",
          "female",
          "male",
          "female",
          "male",
          "female",
          "male",
          "female",
          "female",
          "male",
          "female",
          "male",
          "male",
          "female",
          "female",
          "male",
          "female",
          "female",
          "female",
          "female",
          "male",
          "female",
          "male",
          "male",
          "female",
          "female",
          "female",
          "male",
          "female",
          "female",
          "female",
          "female",
          "male",
          "male",
          "male",
          "female",
          "female",
          "male",
          "male",
          "female",
          "female",
          "male",
          "female",
          "male",
          "female",
          "female",
          "male",
          "female",
          "female",
          "female",
          "male",
          "female",
          "male",
          "female",
          "female",
          "female"
         ],
         "legendgroup": "",
         "name": "",
         "showlegend": true,
         "type": "pie",
         "values": {
          "bdata": "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",
          "dtype": "f8"
         }
        }
       ],
       "layout": {
        "legend": {
         "tracegroupgap": 0
        },
        "margin": {
         "t": 60
        },
        "template": {
         "data": {
          "bar": [
           {
            "error_x": {
             "color": "#2a3f5f"
            },
            "error_y": {
             "color": "#2a3f5f"
            },
            "marker": {
             "line": {
              "color": "#E5ECF6",
              "width": 0.5
             },
             "pattern": {
              "fillmode": "overlay",
              "size": 10,
              "solidity": 0.2
             }
            },
            "type": "bar"
           }
          ],
          "barpolar": [
           {
            "marker": {
             "line": {
              "color": "#E5ECF6",
              "width": 0.5
             },
             "pattern": {
              "fillmode": "overlay",
              "size": 10,
              "solidity": 0.2
             }
            },
            "type": "barpolar"
           }
          ],
          "carpet": [
           {
            "aaxis": {
             "endlinecolor": "#2a3f5f",
             "gridcolor": "white",
             "linecolor": "white",
             "minorgridcolor": "white",
             "startlinecolor": "#2a3f5f"
            },
            "baxis": {
             "endlinecolor": "#2a3f5f",
             "gridcolor": "white",
             "linecolor": "white",
             "minorgridcolor": "white",
             "startlinecolor": "#2a3f5f"
            },
            "type": "carpet"
           }
          ],
          "choropleth": [
           {
            "colorbar": {
             "outlinewidth": 0,
             "ticks": ""
            },
            "type": "choropleth"
           }
          ],
          "contour": [
           {
            "colorbar": {
             "outlinewidth": 0,
             "ticks": ""
            },
            "colorscale": [
             [
              0,
              "#0d0887"
             ],
             [
              0.1111111111111111,
              "#46039f"
             ],
             [
              0.2222222222222222,
              "#7201a8"
             ],
             [
              0.3333333333333333,
              "#9c179e"
             ],
             [
              0.4444444444444444,
              "#bd3786"
             ],
             [
              0.5555555555555556,
              "#d8576b"
             ],
             [
              0.6666666666666666,
              "#ed7953"
             ],
             [
              0.7777777777777778,
              "#fb9f3a"
             ],
             [
              0.8888888888888888,
              "#fdca26"
             ],
             [
              1,
              "#f0f921"
             ]
            ],
            "type": "contour"
           }
          ],
          "contourcarpet": [
           {
            "colorbar": {
             "outlinewidth": 0,
             "ticks": ""
            },
            "type": "contourcarpet"
           }
          ],
          "heatmap": [
           {
            "colorbar": {
             "outlinewidth": 0,
             "ticks": ""
            },
            "colorscale": [
             [
              0,
              "#0d0887"
             ],
             [
              0.1111111111111111,
              "#46039f"
             ],
             [
              0.2222222222222222,
              "#7201a8"
             ],
             [
              0.3333333333333333,
              "#9c179e"
             ],
             [
              0.4444444444444444,
              "#bd3786"
             ],
             [
              0.5555555555555556,
              "#d8576b"
             ],
             [
              0.6666666666666666,
              "#ed7953"
             ],
             [
              0.7777777777777778,
              "#fb9f3a"
             ],
             [
              0.8888888888888888,
              "#fdca26"
             ],
             [
              1,
              "#f0f921"
             ]
            ],
            "type": "heatmap"
           }
          ],
          "histogram": [
           {
            "marker": {
             "pattern": {
              "fillmode": "overlay",
              "size": 10,
              "solidity": 0.2
             }
            },
            "type": "histogram"
           }
          ],
          "histogram2d": [
           {
            "colorbar": {
             "outlinewidth": 0,
             "ticks": ""
            },
            "colorscale": [
             [
              0,
              "#0d0887"
             ],
             [
              0.1111111111111111,
              "#46039f"
             ],
             [
              0.2222222222222222,
              "#7201a8"
             ],
             [
              0.3333333333333333,
              "#9c179e"
             ],
             [
              0.4444444444444444,
              "#bd3786"
             ],
             [
              0.5555555555555556,
              "#d8576b"
             ],
             [
              0.6666666666666666,
              "#ed7953"
             ],
             [
              0.7777777777777778,
              "#fb9f3a"
             ],
             [
              0.8888888888888888,
              "#fdca26"
             ],
             [
              1,
              "#f0f921"
             ]
            ],
            "type": "histogram2d"
           }
          ],
          "histogram2dcontour": [
           {
            "colorbar": {
             "outlinewidth": 0,
             "ticks": ""
            },
            "colorscale": [
             [
              0,
              "#0d0887"
             ],
             [
              0.1111111111111111,
              "#46039f"
             ],
             [
              0.2222222222222222,
              "#7201a8"
             ],
             [
              0.3333333333333333,
              "#9c179e"
             ],
             [
              0.4444444444444444,
              "#bd3786"
             ],
             [
              0.5555555555555556,
              "#d8576b"
             ],
             [
              0.6666666666666666,
              "#ed7953"
             ],
             [
              0.7777777777777778,
              "#fb9f3a"
             ],
             [
              0.8888888888888888,
              "#fdca26"
             ],
             [
              1,
              "#f0f921"
             ]
            ],
            "type": "histogram2dcontour"
           }
          ],
          "mesh3d": [
           {
            "colorbar": {
             "outlinewidth": 0,
             "ticks": ""
            },
            "type": "mesh3d"
           }
          ],
          "parcoords": [
           {
            "line": {
             "colorbar": {
              "outlinewidth": 0,
              "ticks": ""
             }
            },
            "type": "parcoords"
           }
          ],
          "pie": [
           {
            "automargin": true,
            "type": "pie"
           }
          ],
          "scatter": [
           {
            "fillpattern": {
             "fillmode": "overlay",
             "size": 10,
             "solidity": 0.2
            },
            "type": "scatter"
           }
          ],
          "scatter3d": [
           {
            "line": {
             "colorbar": {
              "outlinewidth": 0,
              "ticks": ""
             }
            },
            "marker": {
             "colorbar": {
              "outlinewidth": 0,
              "ticks": ""
             }
            },
            "type": "scatter3d"
           }
          ],
          "scattercarpet": [
           {
            "marker": {
             "colorbar": {
              "outlinewidth": 0,
              "ticks": ""
             }
            },
            "type": "scattercarpet"
           }
          ],
          "scattergeo": [
           {
            "marker": {
             "colorbar": {
              "outlinewidth": 0,
              "ticks": ""
             }
            },
            "type": "scattergeo"
           }
          ],
          "scattergl": [
           {
            "marker": {
             "colorbar": {
              "outlinewidth": 0,
              "ticks": ""
             }
            },
            "type": "scattergl"
           }
          ],
          "scattermap": [
           {
            "marker": {
             "colorbar": {
              "outlinewidth": 0,
              "ticks": ""
             }
            },
            "type": "scattermap"
           }
          ],
          "scattermapbox": [
           {
            "marker": {
             "colorbar": {
              "outlinewidth": 0,
              "ticks": ""
             }
            },
            "type": "scattermapbox"
           }
          ],
          "scatterpolar": [
           {
            "marker": {
             "colorbar": {
              "outlinewidth": 0,
              "ticks": ""
             }
            },
            "type": "scatterpolar"
           }
          ],
          "scatterpolargl": [
           {
            "marker": {
             "colorbar": {
              "outlinewidth": 0,
              "ticks": ""
             }
            },
            "type": "scatterpolargl"
           }
          ],
          "scatterternary": [
           {
            "marker": {
             "colorbar": {
              "outlinewidth": 0,
              "ticks": ""
             }
            },
            "type": "scatterternary"
           }
          ],
          "surface": [
           {
            "colorbar": {
             "outlinewidth": 0,
             "ticks": ""
            },
            "colorscale": [
             [
              0,
              "#0d0887"
             ],
             [
              0.1111111111111111,
              "#46039f"
             ],
             [
              0.2222222222222222,
              "#7201a8"
             ],
             [
              0.3333333333333333,
              "#9c179e"
             ],
             [
              0.4444444444444444,
              "#bd3786"
             ],
             [
              0.5555555555555556,
              "#d8576b"
             ],
             [
              0.6666666666666666,
              "#ed7953"
             ],
             [
              0.7777777777777778,
              "#fb9f3a"
             ],
             [
              0.8888888888888888,
              "#fdca26"
             ],
             [
              1,
              "#f0f921"
             ]
            ],
            "type": "surface"
           }
          ],
          "table": [
           {
            "cells": {
             "fill": {
              "color": "#EBF0F8"
             },
             "line": {
              "color": "white"
             }
            },
            "header": {
             "fill": {
              "color": "#C8D4E3"
             },
             "line": {
              "color": "white"
             }
            },
            "type": "table"
           }
          ]
         },
         "layout": {
          "annotationdefaults": {
           "arrowcolor": "#2a3f5f",
           "arrowhead": 0,
           "arrowwidth": 1
          },
          "autotypenumbers": "strict",
          "coloraxis": {
           "colorbar": {
            "outlinewidth": 0,
            "ticks": ""
           }
          },
          "colorscale": {
           "diverging": [
            [
             0,
             "#8e0152"
            ],
            [
             0.1,
             "#c51b7d"
            ],
            [
             0.2,
             "#de77ae"
            ],
            [
             0.3,
             "#f1b6da"
            ],
            [
             0.4,
             "#fde0ef"
            ],
            [
             0.5,
             "#f7f7f7"
            ],
            [
             0.6,
             "#e6f5d0"
            ],
            [
             0.7,
             "#b8e186"
            ],
            [
             0.8,
             "#7fbc41"
            ],
            [
             0.9,
             "#4d9221"
            ],
            [
             1,
             "#276419"
            ]
           ],
           "sequential": [
            [
             0,
             "#0d0887"
            ],
            [
             0.1111111111111111,
             "#46039f"
            ],
            [
             0.2222222222222222,
             "#7201a8"
            ],
            [
             0.3333333333333333,
             "#9c179e"
            ],
            [
             0.4444444444444444,
             "#bd3786"
            ],
            [
             0.5555555555555556,
             "#d8576b"
            ],
            [
             0.6666666666666666,
             "#ed7953"
            ],
            [
             0.7777777777777778,
             "#fb9f3a"
            ],
            [
             0.8888888888888888,
             "#fdca26"
            ],
            [
             1,
             "#f0f921"
            ]
           ],
           "sequentialminus": [
            [
             0,
             "#0d0887"
            ],
            [
             0.1111111111111111,
             "#46039f"
            ],
            [
             0.2222222222222222,
             "#7201a8"
            ],
            [
             0.3333333333333333,
             "#9c179e"
            ],
            [
             0.4444444444444444,
             "#bd3786"
            ],
            [
             0.5555555555555556,
             "#d8576b"
            ],
            [
             0.6666666666666666,
             "#ed7953"
            ],
            [
             0.7777777777777778,
             "#fb9f3a"
            ],
            [
             0.8888888888888888,
             "#fdca26"
            ],
            [
             1,
             "#f0f921"
            ]
           ]
          },
          "colorway": [
           "#636efa",
           "#EF553B",
           "#00cc96",
           "#ab63fa",
           "#FFA15A",
           "#19d3f3",
           "#FF6692",
           "#B6E880",
           "#FF97FF",
           "#FECB52"
          ],
          "font": {
           "color": "#2a3f5f"
          },
          "geo": {
           "bgcolor": "white",
           "lakecolor": "white",
           "landcolor": "#E5ECF6",
           "showlakes": true,
           "showland": true,
           "subunitcolor": "white"
          },
          "hoverlabel": {
           "align": "left"
          },
          "hovermode": "closest",
          "mapbox": {
           "style": "light"
          },
          "paper_bgcolor": "white",
          "plot_bgcolor": "#E5ECF6",
          "polar": {
           "angularaxis": {
            "gridcolor": "white",
            "linecolor": "white",
            "ticks": ""
           },
           "bgcolor": "#E5ECF6",
           "radialaxis": {
            "gridcolor": "white",
            "linecolor": "white",
            "ticks": ""
           }
          },
          "scene": {
           "xaxis": {
            "backgroundcolor": "#E5ECF6",
            "gridcolor": "white",
            "gridwidth": 2,
            "linecolor": "white",
            "showbackground": true,
            "ticks": "",
            "zerolinecolor": "white"
           },
           "yaxis": {
            "backgroundcolor": "#E5ECF6",
            "gridcolor": "white",
            "gridwidth": 2,
            "linecolor": "white",
            "showbackground": true,
            "ticks": "",
            "zerolinecolor": "white"
           },
           "zaxis": {
            "backgroundcolor": "#E5ECF6",
            "gridcolor": "white",
            "gridwidth": 2,
            "linecolor": "white",
            "showbackground": true,
            "ticks": "",
            "zerolinecolor": "white"
           }
          },
          "shapedefaults": {
           "line": {
            "color": "#2a3f5f"
           }
          },
          "ternary": {
           "aaxis": {
            "gridcolor": "white",
            "linecolor": "white",
            "ticks": ""
           },
           "baxis": {
            "gridcolor": "white",
            "linecolor": "white",
            "ticks": ""
           },
           "bgcolor": "#E5ECF6",
           "caxis": {
            "gridcolor": "white",
            "linecolor": "white",
            "ticks": ""
           }
          },
          "title": {
           "x": 0.05
          },
          "xaxis": {
           "automargin": true,
           "gridcolor": "white",
           "linecolor": "white",
           "ticks": "",
           "title": {
            "standoff": 15
           },
           "zerolinecolor": "white",
           "zerolinewidth": 2
          },
          "yaxis": {
           "automargin": true,
           "gridcolor": "white",
           "linecolor": "white",
           "ticks": "",
           "title": {
            "standoff": 15
           },
           "zerolinecolor": "white",
           "zerolinewidth": 2
          }
         }
        }
       }
      }
     },
     "metadata": {},
     "output_type": "display_data"
    }
   ],
   "source": [
    "figure = px.pie(data_frame=df,hole=0.5,names='gender',values='average score')  # Code step\n",
    "figure.show()  # Code step"
   ]
  },
  {
   "cell_type": "markdown",
   "id": "92887c61",
   "metadata": {},
   "source": [
    "### Results & Insights\n",
    "- (Write observations from the output of this code block.)\n"
   ]
  },
  {
   "cell_type": "markdown",
   "id": "22487403",
   "metadata": {},
   "source": [
    "### Code Explanation\n",
    "The following code performs a step in the data analysis process.\n"
   ]
  },
  {
   "cell_type": "code",
   "execution_count": 41,
   "id": "a9b52b1e",
   "metadata": {},
   "outputs": [
    {
     "data": {
      "text/plain": [
       "<Axes: >"
      ]
     },
     "execution_count": 41,
     "metadata": {},
     "output_type": "execute_result"
    },
    {
     "data": {
      "image/png": "[encoded data removed]",
      "text/plain": [
       "<Figure size 640x480 with 1 Axes>"
      ]
     },
     "metadata": {},
     "output_type": "display_data"
    }
   ],
   "source": [
    "sns.boxplot(data=df)  # Visualization of data"
   ]
  },
  {
   "cell_type": "markdown",
   "id": "614ca775",
   "metadata": {},
   "source": [
    "### Results & Insights\n",
    "- (Write observations from the output of this code block.)\n"
   ]
  },
  {
   "cell_type": "markdown",
   "id": "5a088191",
   "metadata": {},
   "source": [
    "### Code Explanation\n",
    "The following code performs a step in the data analysis process.\n"
   ]
  }
 ],
 "metadata": {
  "kernelspec": {
   "display_name": "Python 3",
   "language": "python",
   "name": "python3"
  },
  "language_info": {
   "codemirror_mode": {
    "name": "ipython",
    "version": 3
   },
   "file_extension": ".py",
   "mimetype": "text/x-python",
   "name": "python",
   "nbconvert_exporter": "python",
   "pygments_lexer": "ipython3",
   "version": "3.8.20"
  }
 },
 "nbformat": 4,
 "nbformat_minor": 5
}
